{
  "cells": [
    {
      "cell_type": "markdown",
      "metadata": {
        "id": "view-in-github",
        "colab_type": "text"
      },
      "source": [
        "<a href=\"https://colab.research.google.com/github/kwang0149/capstone-project-ml/blob/main/Capstone_C23_PS149.ipynb\" target=\"_parent\"><img src=\"https://colab.research.google.com/assets/colab-badge.svg\" alt=\"Open In Colab\"/></a>"
      ]
    },
    {
      "cell_type": "code",
      "execution_count": null,
      "metadata": {
        "id": "O6Ax4RNBIhVD"
      },
      "outputs": [],
      "source": [
        "!pip install tensorflow_text\n",
        "import pandas as pd\n",
        "import tensorflow as tf\n",
        "import tensorflow_hub as hub\n",
        "import tensorflow_text"
      ]
    },
    {
      "cell_type": "code",
      "execution_count": null,
      "metadata": {
        "id": "pv15bsqgI0_R"
      },
      "outputs": [],
      "source": [
        "from google.colab import drive\n",
        "drive.mount('/content/drive')\n",
        "path_file = '/content/drive/MyDrive/SurveiCapstone'\n"
      ]
    },
    {
      "cell_type": "code",
      "execution_count": null,
      "metadata": {
        "id": "kq-f7FFUgaQR",
        "colab": {
          "base_uri": "https://localhost:8080/",
          "height": 1000
        },
        "outputId": "843e7ac6-b4bd-4ce1-af9d-380ee8139361"
      },
      "outputs": [
        {
          "output_type": "execute_result",
          "data": {
            "text/plain": [
              "    storyId                                              story       major\n",
              "0      37.0  Dalam hal ilmu matematika, saya memiliki kemam...     Ekonomi\n",
              "1      42.0  Sebagai individu, saya memiliki pemahaman mate...     Ekonomi\n",
              "2      10.0  Saya memiliki keinginan yang kuat untuk mempel...     Ekonomi\n",
              "3      21.0  Saya memiliki kekuatan yang matang dalam ilmu ...     Ekonomi\n",
              "4      26.0  Saya memiliki kemampuan matematika yang luar b...     Ekonomi\n",
              "5      28.0  Dalam ilmu matematika, saya memiliki kemampuan...     Ekonomi\n",
              "6       3.0  Saya memiliki pemahaman yang kuat dalam ilmu m...     Ekonomi\n",
              "7       5.0  Saya memiliki keahlian yang cukup kuat dalam i...     Ekonomi\n",
              "8       6.0  Saya memiliki kekuatan dalam ilmu matematika d...     Ekonomi\n",
              "9       7.0  Saya memiliki keahlian yang kuat dalam ilmu ma...     Ekonomi\n",
              "10     11.0  Keahlian saya cukup kuat dalam ilmu matematika...     Ekonomi\n",
              "11     12.0  Kemampuan saya dalam ilmu matematika dan anali...          IT\n",
              "12     18.0  Saya cukup kuat dalam ilmu matematika dan memi...          IT\n",
              "13     22.0  Saya memiliki kekuatan yang cukup dalam ilmu m...          IT\n",
              "14     24.0  Saya tertarik dalam berkarir di bidang ilmu pe...          IT\n",
              "15     30.0  Dalam ilmu matematika, saya berada di level ya...          IT\n",
              "16     44.0  Saya memiliki kekuatan yang sangat kuat dalam ...          IT\n",
              "17     45.0  Saya memiliki kemampuan yang rata-rata dalam i...          IT\n",
              "18     70.0  Saya memiliki pemahaman rata-rata dalam ilmu m...          IT\n",
              "19     71.0  Di tengah keterampilan matematika dan analisis...          IT\n",
              "20     75.0  Meskipun saya mengakui bahwa kekuatan saya dal...          IT\n",
              "21     77.0  Sebagai seseorang dengan kekuatan yang cukup k...          IT\n",
              "22     29.0  Dalam ilmu matematika, aku berada di level rat...          IT\n",
              "23      4.0  Saya merasa kurang memiliki keterampilan inter...          IT\n",
              "24     20.0  Saya merasa cukup kuat dalam ilmu matematika d...          IT\n",
              "25     51.0  Meskipun kekuatan saya dalam ilmu matematika r...  Kedokteran\n",
              "26      NaN  Saya memiliki pemahaman yang cukup kuat dalam ...  Kedokteran\n",
              "27      NaN  Saya memiliki pemahaman matematika yang rata-r...  Kedokteran\n",
              "28     76.0  saya memiliki kekuatan yang kurang dalam ilmu ...  Kedokteran\n",
              "29     59.0  Seorang individu dengan pemahaman matematika r...  Kedokteran\n",
              "30     63.0  Seorang individu dengan pemahaman matematika y...  Kedokteran\n",
              "31     41.0  Sebagai seorang individu, saya memiliki pemaha...  Kedokteran\n",
              "32     66.0  Seorang individu dengan pemahaman matematika y...  Kedokteran\n",
              "33     67.0  Saya adalah seorang yang memiliki pengetahuan ...  Kedokteran\n",
              "34     69.0  Saya adalah seorang yang kurang kuat dalam ilm...  Kedokteran\n",
              "35     47.0  Salah satu aspek di mana saya memiliki keahlia...  Kedokteran\n",
              "36     55.0  Dalam ilmu matematika, saya memiliki kekuatan ...  Kedokteran\n",
              "37     72.0  Dengan kekuatan yang sangat kuat dalam ilmu ma...  Kedokteran\n",
              "38     74.0  saya mengakui bahwa kekuatan saya dalam ilmu m...        Seni\n",
              "39     31.0  Dalam ilmu matematika, saya berada di tingkat ...        Seni\n",
              "40     43.0  Sebagai individu, saya memiliki pemahaman yang...        Seni\n",
              "41     61.0  Seorang individu dengan kekuatan rata-rata dal...        Seni\n",
              "42      1.0  Aku merasa tertarik dengan beberapa mata pelaj...        Seni\n",
              "43      8.0  Kemampuan saya dalam ilmu matematika dan perhi...        Seni\n",
              "44      9.0  Saya memiliki kemampuan rata-rata dalam mengha...        Seni\n",
              "45     16.0  Meskipun kemampuan matematika saya rata-rata, ...        Seni\n",
              "46     17.0  Saya memiliki kekuatan yang rata-rata dalam il...        Seni\n",
              "47     23.0  Saya tertarik dalam berkarir di bidang seni da...        Seni\n",
              "48     27.0  Jujur, saya tidak dapat mengklaim bahwa saya a...        Seni\n",
              "49     32.0  Dalam ilmu matematika, saya memiliki tingkat k...        Seni"
            ],
            "text/html": [
              "\n",
              "  <div id=\"df-548e54bb-8b8e-4cae-a73f-32c93b5e116e\">\n",
              "    <div class=\"colab-df-container\">\n",
              "      <div>\n",
              "<style scoped>\n",
              "    .dataframe tbody tr th:only-of-type {\n",
              "        vertical-align: middle;\n",
              "    }\n",
              "\n",
              "    .dataframe tbody tr th {\n",
              "        vertical-align: top;\n",
              "    }\n",
              "\n",
              "    .dataframe thead th {\n",
              "        text-align: right;\n",
              "    }\n",
              "</style>\n",
              "<table border=\"1\" class=\"dataframe\">\n",
              "  <thead>\n",
              "    <tr style=\"text-align: right;\">\n",
              "      <th></th>\n",
              "      <th>storyId</th>\n",
              "      <th>story</th>\n",
              "      <th>major</th>\n",
              "    </tr>\n",
              "  </thead>\n",
              "  <tbody>\n",
              "    <tr>\n",
              "      <th>0</th>\n",
              "      <td>37.0</td>\n",
              "      <td>Dalam hal ilmu matematika, saya memiliki kemam...</td>\n",
              "      <td>Ekonomi</td>\n",
              "    </tr>\n",
              "    <tr>\n",
              "      <th>1</th>\n",
              "      <td>42.0</td>\n",
              "      <td>Sebagai individu, saya memiliki pemahaman mate...</td>\n",
              "      <td>Ekonomi</td>\n",
              "    </tr>\n",
              "    <tr>\n",
              "      <th>2</th>\n",
              "      <td>10.0</td>\n",
              "      <td>Saya memiliki keinginan yang kuat untuk mempel...</td>\n",
              "      <td>Ekonomi</td>\n",
              "    </tr>\n",
              "    <tr>\n",
              "      <th>3</th>\n",
              "      <td>21.0</td>\n",
              "      <td>Saya memiliki kekuatan yang matang dalam ilmu ...</td>\n",
              "      <td>Ekonomi</td>\n",
              "    </tr>\n",
              "    <tr>\n",
              "      <th>4</th>\n",
              "      <td>26.0</td>\n",
              "      <td>Saya memiliki kemampuan matematika yang luar b...</td>\n",
              "      <td>Ekonomi</td>\n",
              "    </tr>\n",
              "    <tr>\n",
              "      <th>5</th>\n",
              "      <td>28.0</td>\n",
              "      <td>Dalam ilmu matematika, saya memiliki kemampuan...</td>\n",
              "      <td>Ekonomi</td>\n",
              "    </tr>\n",
              "    <tr>\n",
              "      <th>6</th>\n",
              "      <td>3.0</td>\n",
              "      <td>Saya memiliki pemahaman yang kuat dalam ilmu m...</td>\n",
              "      <td>Ekonomi</td>\n",
              "    </tr>\n",
              "    <tr>\n",
              "      <th>7</th>\n",
              "      <td>5.0</td>\n",
              "      <td>Saya memiliki keahlian yang cukup kuat dalam i...</td>\n",
              "      <td>Ekonomi</td>\n",
              "    </tr>\n",
              "    <tr>\n",
              "      <th>8</th>\n",
              "      <td>6.0</td>\n",
              "      <td>Saya memiliki kekuatan dalam ilmu matematika d...</td>\n",
              "      <td>Ekonomi</td>\n",
              "    </tr>\n",
              "    <tr>\n",
              "      <th>9</th>\n",
              "      <td>7.0</td>\n",
              "      <td>Saya memiliki keahlian yang kuat dalam ilmu ma...</td>\n",
              "      <td>Ekonomi</td>\n",
              "    </tr>\n",
              "    <tr>\n",
              "      <th>10</th>\n",
              "      <td>11.0</td>\n",
              "      <td>Keahlian saya cukup kuat dalam ilmu matematika...</td>\n",
              "      <td>Ekonomi</td>\n",
              "    </tr>\n",
              "    <tr>\n",
              "      <th>11</th>\n",
              "      <td>12.0</td>\n",
              "      <td>Kemampuan saya dalam ilmu matematika dan anali...</td>\n",
              "      <td>IT</td>\n",
              "    </tr>\n",
              "    <tr>\n",
              "      <th>12</th>\n",
              "      <td>18.0</td>\n",
              "      <td>Saya cukup kuat dalam ilmu matematika dan memi...</td>\n",
              "      <td>IT</td>\n",
              "    </tr>\n",
              "    <tr>\n",
              "      <th>13</th>\n",
              "      <td>22.0</td>\n",
              "      <td>Saya memiliki kekuatan yang cukup dalam ilmu m...</td>\n",
              "      <td>IT</td>\n",
              "    </tr>\n",
              "    <tr>\n",
              "      <th>14</th>\n",
              "      <td>24.0</td>\n",
              "      <td>Saya tertarik dalam berkarir di bidang ilmu pe...</td>\n",
              "      <td>IT</td>\n",
              "    </tr>\n",
              "    <tr>\n",
              "      <th>15</th>\n",
              "      <td>30.0</td>\n",
              "      <td>Dalam ilmu matematika, saya berada di level ya...</td>\n",
              "      <td>IT</td>\n",
              "    </tr>\n",
              "    <tr>\n",
              "      <th>16</th>\n",
              "      <td>44.0</td>\n",
              "      <td>Saya memiliki kekuatan yang sangat kuat dalam ...</td>\n",
              "      <td>IT</td>\n",
              "    </tr>\n",
              "    <tr>\n",
              "      <th>17</th>\n",
              "      <td>45.0</td>\n",
              "      <td>Saya memiliki kemampuan yang rata-rata dalam i...</td>\n",
              "      <td>IT</td>\n",
              "    </tr>\n",
              "    <tr>\n",
              "      <th>18</th>\n",
              "      <td>70.0</td>\n",
              "      <td>Saya memiliki pemahaman rata-rata dalam ilmu m...</td>\n",
              "      <td>IT</td>\n",
              "    </tr>\n",
              "    <tr>\n",
              "      <th>19</th>\n",
              "      <td>71.0</td>\n",
              "      <td>Di tengah keterampilan matematika dan analisis...</td>\n",
              "      <td>IT</td>\n",
              "    </tr>\n",
              "    <tr>\n",
              "      <th>20</th>\n",
              "      <td>75.0</td>\n",
              "      <td>Meskipun saya mengakui bahwa kekuatan saya dal...</td>\n",
              "      <td>IT</td>\n",
              "    </tr>\n",
              "    <tr>\n",
              "      <th>21</th>\n",
              "      <td>77.0</td>\n",
              "      <td>Sebagai seseorang dengan kekuatan yang cukup k...</td>\n",
              "      <td>IT</td>\n",
              "    </tr>\n",
              "    <tr>\n",
              "      <th>22</th>\n",
              "      <td>29.0</td>\n",
              "      <td>Dalam ilmu matematika, aku berada di level rat...</td>\n",
              "      <td>IT</td>\n",
              "    </tr>\n",
              "    <tr>\n",
              "      <th>23</th>\n",
              "      <td>4.0</td>\n",
              "      <td>Saya merasa kurang memiliki keterampilan inter...</td>\n",
              "      <td>IT</td>\n",
              "    </tr>\n",
              "    <tr>\n",
              "      <th>24</th>\n",
              "      <td>20.0</td>\n",
              "      <td>Saya merasa cukup kuat dalam ilmu matematika d...</td>\n",
              "      <td>IT</td>\n",
              "    </tr>\n",
              "    <tr>\n",
              "      <th>25</th>\n",
              "      <td>51.0</td>\n",
              "      <td>Meskipun kekuatan saya dalam ilmu matematika r...</td>\n",
              "      <td>Kedokteran</td>\n",
              "    </tr>\n",
              "    <tr>\n",
              "      <th>26</th>\n",
              "      <td>NaN</td>\n",
              "      <td>Saya memiliki pemahaman yang cukup kuat dalam ...</td>\n",
              "      <td>Kedokteran</td>\n",
              "    </tr>\n",
              "    <tr>\n",
              "      <th>27</th>\n",
              "      <td>NaN</td>\n",
              "      <td>Saya memiliki pemahaman matematika yang rata-r...</td>\n",
              "      <td>Kedokteran</td>\n",
              "    </tr>\n",
              "    <tr>\n",
              "      <th>28</th>\n",
              "      <td>76.0</td>\n",
              "      <td>saya memiliki kekuatan yang kurang dalam ilmu ...</td>\n",
              "      <td>Kedokteran</td>\n",
              "    </tr>\n",
              "    <tr>\n",
              "      <th>29</th>\n",
              "      <td>59.0</td>\n",
              "      <td>Seorang individu dengan pemahaman matematika r...</td>\n",
              "      <td>Kedokteran</td>\n",
              "    </tr>\n",
              "    <tr>\n",
              "      <th>30</th>\n",
              "      <td>63.0</td>\n",
              "      <td>Seorang individu dengan pemahaman matematika y...</td>\n",
              "      <td>Kedokteran</td>\n",
              "    </tr>\n",
              "    <tr>\n",
              "      <th>31</th>\n",
              "      <td>41.0</td>\n",
              "      <td>Sebagai seorang individu, saya memiliki pemaha...</td>\n",
              "      <td>Kedokteran</td>\n",
              "    </tr>\n",
              "    <tr>\n",
              "      <th>32</th>\n",
              "      <td>66.0</td>\n",
              "      <td>Seorang individu dengan pemahaman matematika y...</td>\n",
              "      <td>Kedokteran</td>\n",
              "    </tr>\n",
              "    <tr>\n",
              "      <th>33</th>\n",
              "      <td>67.0</td>\n",
              "      <td>Saya adalah seorang yang memiliki pengetahuan ...</td>\n",
              "      <td>Kedokteran</td>\n",
              "    </tr>\n",
              "    <tr>\n",
              "      <th>34</th>\n",
              "      <td>69.0</td>\n",
              "      <td>Saya adalah seorang yang kurang kuat dalam ilm...</td>\n",
              "      <td>Kedokteran</td>\n",
              "    </tr>\n",
              "    <tr>\n",
              "      <th>35</th>\n",
              "      <td>47.0</td>\n",
              "      <td>Salah satu aspek di mana saya memiliki keahlia...</td>\n",
              "      <td>Kedokteran</td>\n",
              "    </tr>\n",
              "    <tr>\n",
              "      <th>36</th>\n",
              "      <td>55.0</td>\n",
              "      <td>Dalam ilmu matematika, saya memiliki kekuatan ...</td>\n",
              "      <td>Kedokteran</td>\n",
              "    </tr>\n",
              "    <tr>\n",
              "      <th>37</th>\n",
              "      <td>72.0</td>\n",
              "      <td>Dengan kekuatan yang sangat kuat dalam ilmu ma...</td>\n",
              "      <td>Kedokteran</td>\n",
              "    </tr>\n",
              "    <tr>\n",
              "      <th>38</th>\n",
              "      <td>74.0</td>\n",
              "      <td>saya mengakui bahwa kekuatan saya dalam ilmu m...</td>\n",
              "      <td>Seni</td>\n",
              "    </tr>\n",
              "    <tr>\n",
              "      <th>39</th>\n",
              "      <td>31.0</td>\n",
              "      <td>Dalam ilmu matematika, saya berada di tingkat ...</td>\n",
              "      <td>Seni</td>\n",
              "    </tr>\n",
              "    <tr>\n",
              "      <th>40</th>\n",
              "      <td>43.0</td>\n",
              "      <td>Sebagai individu, saya memiliki pemahaman yang...</td>\n",
              "      <td>Seni</td>\n",
              "    </tr>\n",
              "    <tr>\n",
              "      <th>41</th>\n",
              "      <td>61.0</td>\n",
              "      <td>Seorang individu dengan kekuatan rata-rata dal...</td>\n",
              "      <td>Seni</td>\n",
              "    </tr>\n",
              "    <tr>\n",
              "      <th>42</th>\n",
              "      <td>1.0</td>\n",
              "      <td>Aku merasa tertarik dengan beberapa mata pelaj...</td>\n",
              "      <td>Seni</td>\n",
              "    </tr>\n",
              "    <tr>\n",
              "      <th>43</th>\n",
              "      <td>8.0</td>\n",
              "      <td>Kemampuan saya dalam ilmu matematika dan perhi...</td>\n",
              "      <td>Seni</td>\n",
              "    </tr>\n",
              "    <tr>\n",
              "      <th>44</th>\n",
              "      <td>9.0</td>\n",
              "      <td>Saya memiliki kemampuan rata-rata dalam mengha...</td>\n",
              "      <td>Seni</td>\n",
              "    </tr>\n",
              "    <tr>\n",
              "      <th>45</th>\n",
              "      <td>16.0</td>\n",
              "      <td>Meskipun kemampuan matematika saya rata-rata, ...</td>\n",
              "      <td>Seni</td>\n",
              "    </tr>\n",
              "    <tr>\n",
              "      <th>46</th>\n",
              "      <td>17.0</td>\n",
              "      <td>Saya memiliki kekuatan yang rata-rata dalam il...</td>\n",
              "      <td>Seni</td>\n",
              "    </tr>\n",
              "    <tr>\n",
              "      <th>47</th>\n",
              "      <td>23.0</td>\n",
              "      <td>Saya tertarik dalam berkarir di bidang seni da...</td>\n",
              "      <td>Seni</td>\n",
              "    </tr>\n",
              "    <tr>\n",
              "      <th>48</th>\n",
              "      <td>27.0</td>\n",
              "      <td>Jujur, saya tidak dapat mengklaim bahwa saya a...</td>\n",
              "      <td>Seni</td>\n",
              "    </tr>\n",
              "    <tr>\n",
              "      <th>49</th>\n",
              "      <td>32.0</td>\n",
              "      <td>Dalam ilmu matematika, saya memiliki tingkat k...</td>\n",
              "      <td>Seni</td>\n",
              "    </tr>\n",
              "  </tbody>\n",
              "</table>\n",
              "</div>\n",
              "      <button class=\"colab-df-convert\" onclick=\"convertToInteractive('df-548e54bb-8b8e-4cae-a73f-32c93b5e116e')\"\n",
              "              title=\"Convert this dataframe to an interactive table.\"\n",
              "              style=\"display:none;\">\n",
              "        \n",
              "  <svg xmlns=\"http://www.w3.org/2000/svg\" height=\"24px\"viewBox=\"0 0 24 24\"\n",
              "       width=\"24px\">\n",
              "    <path d=\"M0 0h24v24H0V0z\" fill=\"none\"/>\n",
              "    <path d=\"M18.56 5.44l.94 2.06.94-2.06 2.06-.94-2.06-.94-.94-2.06-.94 2.06-2.06.94zm-11 1L8.5 8.5l.94-2.06 2.06-.94-2.06-.94L8.5 2.5l-.94 2.06-2.06.94zm10 10l.94 2.06.94-2.06 2.06-.94-2.06-.94-.94-2.06-.94 2.06-2.06.94z\"/><path d=\"M17.41 7.96l-1.37-1.37c-.4-.4-.92-.59-1.43-.59-.52 0-1.04.2-1.43.59L10.3 9.45l-7.72 7.72c-.78.78-.78 2.05 0 2.83L4 21.41c.39.39.9.59 1.41.59.51 0 1.02-.2 1.41-.59l7.78-7.78 2.81-2.81c.8-.78.8-2.07 0-2.86zM5.41 20L4 18.59l7.72-7.72 1.47 1.35L5.41 20z\"/>\n",
              "  </svg>\n",
              "      </button>\n",
              "      \n",
              "  <style>\n",
              "    .colab-df-container {\n",
              "      display:flex;\n",
              "      flex-wrap:wrap;\n",
              "      gap: 12px;\n",
              "    }\n",
              "\n",
              "    .colab-df-convert {\n",
              "      background-color: #E8F0FE;\n",
              "      border: none;\n",
              "      border-radius: 50%;\n",
              "      cursor: pointer;\n",
              "      display: none;\n",
              "      fill: #1967D2;\n",
              "      height: 32px;\n",
              "      padding: 0 0 0 0;\n",
              "      width: 32px;\n",
              "    }\n",
              "\n",
              "    .colab-df-convert:hover {\n",
              "      background-color: #E2EBFA;\n",
              "      box-shadow: 0px 1px 2px rgba(60, 64, 67, 0.3), 0px 1px 3px 1px rgba(60, 64, 67, 0.15);\n",
              "      fill: #174EA6;\n",
              "    }\n",
              "\n",
              "    [theme=dark] .colab-df-convert {\n",
              "      background-color: #3B4455;\n",
              "      fill: #D2E3FC;\n",
              "    }\n",
              "\n",
              "    [theme=dark] .colab-df-convert:hover {\n",
              "      background-color: #434B5C;\n",
              "      box-shadow: 0px 1px 3px 1px rgba(0, 0, 0, 0.15);\n",
              "      filter: drop-shadow(0px 1px 2px rgba(0, 0, 0, 0.3));\n",
              "      fill: #FFFFFF;\n",
              "    }\n",
              "  </style>\n",
              "\n",
              "      <script>\n",
              "        const buttonEl =\n",
              "          document.querySelector('#df-548e54bb-8b8e-4cae-a73f-32c93b5e116e button.colab-df-convert');\n",
              "        buttonEl.style.display =\n",
              "          google.colab.kernel.accessAllowed ? 'block' : 'none';\n",
              "\n",
              "        async function convertToInteractive(key) {\n",
              "          const element = document.querySelector('#df-548e54bb-8b8e-4cae-a73f-32c93b5e116e');\n",
              "          const dataTable =\n",
              "            await google.colab.kernel.invokeFunction('convertToInteractive',\n",
              "                                                     [key], {});\n",
              "          if (!dataTable) return;\n",
              "\n",
              "          const docLinkHtml = 'Like what you see? Visit the ' +\n",
              "            '<a target=\"_blank\" href=https://colab.research.google.com/notebooks/data_table.ipynb>data table notebook</a>'\n",
              "            + ' to learn more about interactive tables.';\n",
              "          element.innerHTML = '';\n",
              "          dataTable['output_type'] = 'display_data';\n",
              "          await google.colab.output.renderOutput(dataTable, element);\n",
              "          const docLink = document.createElement('div');\n",
              "          docLink.innerHTML = docLinkHtml;\n",
              "          element.appendChild(docLink);\n",
              "        }\n",
              "      </script>\n",
              "    </div>\n",
              "  </div>\n",
              "  "
            ]
          },
          "metadata": {},
          "execution_count": 6
        }
      ],
      "source": [
        "# train dataset\n",
        "df_train = pd.read_csv(f\"{path_file}/capstone_dataset_train.csv\")\n",
        "df_train"
      ]
    },
    {
      "cell_type": "markdown",
      "metadata": {
        "id": "xZFPUwU6mwcb"
      },
      "source": []
    },
    {
      "cell_type": "code",
      "execution_count": null,
      "metadata": {
        "id": "3TGJQbhAgdzm"
      },
      "outputs": [],
      "source": [
        "# validation dataset\n",
        "df_validation = pd.read_csv(f\"{path_file}/capstone_dataset_validation.csv\")\n",
        "df_validation"
      ]
    },
    {
      "cell_type": "code",
      "execution_count": null,
      "metadata": {
        "id": "OfW39_Glm0OO"
      },
      "outputs": [],
      "source": [
        "df_train = df_train[[\"story\",\"major\"]]\n",
        "df_train = df_train.dropna()\n",
        "df_train"
      ]
    },
    {
      "cell_type": "code",
      "execution_count": null,
      "metadata": {
        "id": "x2ot4nZwso4i"
      },
      "outputs": [],
      "source": [
        "df_validation = df_validation[[\"story\",\"major\"]]\n",
        "df_validation = df_validation.dropna()\n",
        "df_validation"
      ]
    },
    {
      "cell_type": "code",
      "execution_count": null,
      "metadata": {
        "id": "Xkzb9BYutMZJ"
      },
      "outputs": [],
      "source": [
        "# use pre-trained model universal-sentence-encoder-multilingual\n",
        "embed = hub.KerasLayer(\"https://tfhub.dev/google/universal-sentence-encoder-multilingual/3\",trainable=False)"
      ]
    },
    {
      "cell_type": "code",
      "execution_count": null,
      "metadata": {
        "id": "8Od3D1TqMpPW",
        "colab": {
          "base_uri": "https://localhost:8080/"
        },
        "outputId": "f0b4ba1d-0ac2-458d-f3b1-924bb8dfe273"
      },
      "outputs": [
        {
          "output_type": "execute_result",
          "data": {
            "text/plain": [
              "TensorShape([2, 512])"
            ]
          },
          "metadata": {},
          "execution_count": 12
        }
      ],
      "source": [
        "embed([\"saya suka tekonolgi\",\"IT\"]).shape"
      ]
    },
    {
      "cell_type": "code",
      "execution_count": null,
      "metadata": {
        "id": "4funztxYM_4e"
      },
      "outputs": [],
      "source": [
        "# adapt to the desired output (4 label/4 major)\n",
        "classification_head = tf.keras.layers.Dense(4, input_shape=(512,))"
      ]
    },
    {
      "cell_type": "code",
      "execution_count": null,
      "metadata": {
        "id": "7hLRJ7q-Mt0w"
      },
      "outputs": [],
      "source": [
        "# define input, add pre-trained model layer, add drouput layer, and dense layer\n",
        "input_layer = tf.keras.Input(shape=(), dtype=tf.string)\n",
        "embedding_layer = embed(input_layer)\n",
        "dense_layer_1 = tf.keras.layers.Dense(512, activation='relu')(embedding_layer)\n",
        "dropout_layer = tf.keras.layers.Dropout(0.5)(dense_layer_1)\n",
        "dense_layer_2 = tf.keras.layers.Dense(256, activation='relu')(dropout_layer)\n",
        "output_layer = tf.keras.layers.Dense(4)(dense_layer_2)"
      ]
    },
    {
      "cell_type": "code",
      "execution_count": null,
      "metadata": {
        "id": "jVFDBozzMxIQ"
      },
      "outputs": [],
      "source": [
        "# define the input and output of the model\n",
        "model = tf.keras.Model(inputs=input_layer, outputs=output_layer)"
      ]
    },
    {
      "cell_type": "code",
      "execution_count": null,
      "metadata": {
        "id": "VuYOsnEHRMDm"
      },
      "outputs": [],
      "source": [
        "# make dictionary out of the label\n",
        "major_dictionary ={\n",
        "    \"IT\" : 0,\n",
        "    \"Ekonomi\" : 1,\n",
        "    \"Seni\" : 2,\n",
        "    \"Kedokteran\":3\n",
        "}"
      ]
    },
    {
      "cell_type": "code",
      "execution_count": null,
      "metadata": {
        "id": "LEN04Ln_RtCi"
      },
      "outputs": [],
      "source": [
        "# define the train dataset with the mapped label\n",
        "df_train_model = df_train.copy()\n",
        "df_train_model[\"major\"]= df_train[\"major\"].map(lambda x : major_dictionary[x])\n",
        "df_train_model"
      ]
    },
    {
      "cell_type": "code",
      "execution_count": null,
      "metadata": {
        "id": "fg70uGnCSr6h"
      },
      "outputs": [],
      "source": [
        "# define the validation dataset with the mapped label\n",
        "df_validation_model = df_validation.copy()\n",
        "df_validation_model[\"major\"]= df_validation[\"major\"].map(lambda x : major_dictionary[x])\n",
        "df_validation_model"
      ]
    },
    {
      "cell_type": "code",
      "execution_count": null,
      "metadata": {
        "id": "fPmpzmCRR5Ft"
      },
      "outputs": [],
      "source": [
        "model.compile(optimizer='adam',\n",
        "              loss=tf.keras.losses.SparseCategoricalCrossentropy(from_logits=True),\n",
        "              metrics=['accuracy',tf.keras.metrics.TopKCategoricalAccuracy(k=2)]\n",
        "              )"
      ]
    },
    {
      "cell_type": "code",
      "execution_count": null,
      "metadata": {
        "id": "tu-xp91hSh4X",
        "colab": {
          "base_uri": "https://localhost:8080/"
        },
        "outputId": "f8ae3bd9-7786-412f-9efb-554839092297"
      },
      "outputs": [
        {
          "output_type": "stream",
          "name": "stdout",
          "text": [
            "Epoch 1/5\n",
            "2/2 [==============================] - 8s 4s/step - loss: 1.3891 - accuracy: 0.2000 - top_k_categorical_accuracy: 0.7200 - val_loss: 1.3620 - val_accuracy: 0.3333 - val_top_k_categorical_accuracy: 1.0000\n",
            "Epoch 2/5\n",
            "2/2 [==============================] - 5s 3s/step - loss: 1.3599 - accuracy: 0.3400 - top_k_categorical_accuracy: 0.9000 - val_loss: 1.3428 - val_accuracy: 0.3333 - val_top_k_categorical_accuracy: 1.0000\n",
            "Epoch 3/5\n",
            "2/2 [==============================] - 5s 2s/step - loss: 1.3082 - accuracy: 0.5200 - top_k_categorical_accuracy: 1.0000 - val_loss: 1.3173 - val_accuracy: 0.4167 - val_top_k_categorical_accuracy: 1.0000\n",
            "Epoch 4/5\n",
            "2/2 [==============================] - 4s 2s/step - loss: 1.2785 - accuracy: 0.6200 - top_k_categorical_accuracy: 0.9800 - val_loss: 1.2879 - val_accuracy: 0.5000 - val_top_k_categorical_accuracy: 1.0000\n",
            "Epoch 5/5\n",
            "2/2 [==============================] - 5s 3s/step - loss: 1.2196 - accuracy: 0.6400 - top_k_categorical_accuracy: 1.0000 - val_loss: 1.2500 - val_accuracy: 0.5000 - val_top_k_categorical_accuracy: 1.0000\n"
          ]
        }
      ],
      "source": [
        "result = model.fit(\n",
        "    epochs=5,\n",
        "    x=df_train_model['story'].values,\n",
        "    y = df_train_model['major'].values,\n",
        "    batch_size=32,\n",
        "    validation_data=(df_validation_model['story'].values,\n",
        "                     df_validation_model['major'].values)\n",
        ")"
      ]
    },
    {
      "cell_type": "code",
      "execution_count": null,
      "metadata": {
        "id": "mgwp5ATTsmvR",
        "colab": {
          "base_uri": "https://localhost:8080/"
        },
        "outputId": "1d59677d-8d45-4fb4-d21f-bc71ac136fc8"
      },
      "outputs": [
        {
          "output_type": "stream",
          "name": "stdout",
          "text": [
            "2/2 [==============================] - 5s 2s/step - loss: 0.8101 - accuracy: 0.9200 - top_k_categorical_accuracy: 0.7600 - val_loss: 0.9516 - val_accuracy: 0.7500 - val_top_k_categorical_accuracy: 0.9167\n"
          ]
        }
      ],
      "source": [
        "result = model.fit(\n",
        "    epochs=1,\n",
        "    x=df_train_model['story'].values,\n",
        "    y = df_train_model['major'].values,\n",
        "    batch_size=32,\n",
        "    validation_data=(df_validation_model['story'].values,\n",
        "                     df_validation_model['major'].values)\n",
        ")"
      ]
    },
    {
      "cell_type": "code",
      "execution_count": null,
      "metadata": {
        "id": "Uk2C-6Llm3Ta",
        "colab": {
          "base_uri": "https://localhost:8080/"
        },
        "outputId": "1001cf20-bb2a-4134-c2cf-3c69ad2ad9fc"
      },
      "outputs": [
        {
          "output_type": "stream",
          "name": "stdout",
          "text": [
            "1/1 [==============================] - 1s 1s/step\n"
          ]
        },
        {
          "output_type": "execute_result",
          "data": {
            "text/plain": [
              "array([[-0.14529292, -0.53812826, -0.20740402,  1.1377877 ]],\n",
              "      dtype=float32)"
            ]
          },
          "metadata": {},
          "execution_count": 55
        }
      ],
      "source": [
        "model.predict([\"Minat saya yang kuat dalam ilmu pengetahuan dan kesehatan. Pertama, saya adalah seorang pendengar yang baik. Saya percaya bahwa mendengarkan dengan penuh perhatian adalah kunci untuk memahami kondisi dan masalah pasien dengan baik. Saya ingin memberikan perhatian yang sungguh-sungguh kepada pasien saya dan berusaha memahami mereka secara menyeluruh, bukan hanya dari segi fisik, tetapi juga emosional dan sosial.\"])"
      ]
    },
    {
      "cell_type": "code",
      "execution_count": null,
      "metadata": {
        "id": "zShskVsG9Mzj",
        "colab": {
          "base_uri": "https://localhost:8080/"
        },
        "outputId": "392153bf-d057-48d4-8ddf-248c93d678ce"
      },
      "outputs": [
        {
          "output_type": "stream",
          "name": "stdout",
          "text": [
            "Model: \"model_5\"\n",
            "_________________________________________________________________\n",
            " Layer (type)                Output Shape              Param #   \n",
            "=================================================================\n",
            " input_4 (InputLayer)        [(None,)]                 0         \n",
            "                                                                 \n",
            " keras_layer (KerasLayer)    (None, 512)               68927232  \n",
            "                                                                 \n",
            " dense_10 (Dense)            (None, 512)               262656    \n",
            "                                                                 \n",
            " dropout_2 (Dropout)         (None, 512)               0         \n",
            "                                                                 \n",
            " dense_11 (Dense)            (None, 256)               131328    \n",
            "                                                                 \n",
            " dense_12 (Dense)            (None, 4)                 1028      \n",
            "                                                                 \n",
            "=================================================================\n",
            "Total params: 69,322,244\n",
            "Trainable params: 395,012\n",
            "Non-trainable params: 68,927,232\n",
            "_________________________________________________________________\n"
          ]
        }
      ],
      "source": [
        "model.summary()"
      ]
    },
    {
      "cell_type": "code",
      "execution_count": null,
      "metadata": {
        "id": "L1zJkMLw4h_L",
        "colab": {
          "base_uri": "https://localhost:8080/"
        },
        "outputId": "4fbf2a2c-398d-47c3-9c1c-64ff620dbb45"
      },
      "outputs": [
        {
          "output_type": "stream",
          "name": "stderr",
          "text": [
            "WARNING:absl:Found untraced functions such as _update_step_xla while saving (showing 1 of 1). These functions will not be directly callable after loading.\n"
          ]
        }
      ],
      "source": [
        "# save the model in the directory\n",
        "export_dir = 'saved_model/1'\n",
        "tf.saved_model.save(model, export_dir)"
      ]
    },
    {
      "cell_type": "code",
      "execution_count": null,
      "metadata": {
        "id": "J7hAlYeKPytI"
      },
      "outputs": [],
      "source": [
        "# set the optimization\n",
        "mode = \"Speed\"\n",
        "\n",
        "if mode == 'Storage':\n",
        "    optimization = tf.lite.Optimize.OPTIMIZE_FOR_SIZE\n",
        "elif mode == 'Speed':\n",
        "    optimization = tf.lite.Optimize.OPTIMIZE_FOR_LATENCY\n",
        "else:\n",
        "    optimization = tf.lite.Optimize.DEFAULT"
      ]
    },
    {
      "cell_type": "code",
      "execution_count": null,
      "metadata": {
        "id": "fWjeK99dP4Xl",
        "colab": {
          "base_uri": "https://localhost:8080/"
        },
        "outputId": "2376475e-0b08-460d-d724-2992276f56f7"
      },
      "outputs": [
        {
          "output_type": "stream",
          "name": "stderr",
          "text": [
            "WARNING:absl:Optimization option OPTIMIZE_FOR_LATENCY is deprecated, please use optimizations=[Optimize.DEFAULT] instead.\n",
            "WARNING:absl:Optimization option OPTIMIZE_FOR_LATENCY is deprecated, please use optimizations=[Optimize.DEFAULT] instead.\n",
            "WARNING:absl:Optimization option OPTIMIZE_FOR_LATENCY is deprecated, please use optimizations=[Optimize.DEFAULT] instead.\n"
          ]
        }
      ],
      "source": [
        "# Create a TensorFlow Lite converter object\n",
        "converter = tf.lite.TFLiteConverter.from_saved_model('saved_model/1')\n",
        "\n",
        "# Set the supported operations for TensorFlow Lite\n",
        "converter.target_spec.supported_ops = [\n",
        "  tf.lite.OpsSet.TFLITE_BUILTINS, # enable TensorFlow Lite ops.\n",
        "  tf.lite.OpsSet.SELECT_TF_OPS # enable TensorFlow ops.\n",
        "]\n",
        "\n",
        "\n",
        "# Set the optimzations\n",
        "converter.optimizations = [optimization]\n",
        "\n",
        "# Invoke the converter to finally generate the TFLite model\n",
        "tflite_model = converter.convert()"
      ]
    },
    {
      "cell_type": "code",
      "source": [
        "if tflite_model is not None:\n",
        "    print(\"Model conversion to TFLite successful.\")\n",
        "else:\n",
        "    print(\"Model conversion to TFLite failed.\")"
      ],
      "metadata": {
        "id": "bjj275T2vY-I",
        "colab": {
          "base_uri": "https://localhost:8080/"
        },
        "outputId": "bccac34e-c976-405a-b7d4-31ec81f0bc3e"
      },
      "execution_count": null,
      "outputs": [
        {
          "output_type": "stream",
          "name": "stdout",
          "text": [
            "Model conversion to TFLite successful.\n"
          ]
        }
      ]
    },
    {
      "cell_type": "code",
      "source": [
        "from google.colab import files\n",
        "# Save the TFLite model\n",
        "with open('converted_model.tflite', 'wb') as f:\n",
        "    f.write(tflite_model)"
      ],
      "metadata": {
        "id": "dc60dwF75pUu",
        "colab": {
          "base_uri": "https://localhost:8080/",
          "height": 34
        },
        "outputId": "74b51432-edf5-48bf-a01c-2b1854a7261d"
      },
      "execution_count": null,
      "outputs": [
        {
          "output_type": "display_data",
          "data": {
            "text/plain": [
              "<IPython.core.display.Javascript object>"
            ],
            "application/javascript": [
              "\n",
              "    async function download(id, filename, size) {\n",
              "      if (!google.colab.kernel.accessAllowed) {\n",
              "        return;\n",
              "      }\n",
              "      const div = document.createElement('div');\n",
              "      const label = document.createElement('label');\n",
              "      label.textContent = `Downloading \"${filename}\": `;\n",
              "      div.appendChild(label);\n",
              "      const progress = document.createElement('progress');\n",
              "      progress.max = size;\n",
              "      div.appendChild(progress);\n",
              "      document.body.appendChild(div);\n",
              "\n",
              "      const buffers = [];\n",
              "      let downloaded = 0;\n",
              "\n",
              "      const channel = await google.colab.kernel.comms.open(id);\n",
              "      // Send a message to notify the kernel that we're ready.\n",
              "      channel.send({})\n",
              "\n",
              "      for await (const message of channel.messages) {\n",
              "        // Send a message to notify the kernel that we're ready.\n",
              "        channel.send({})\n",
              "        if (message.buffers) {\n",
              "          for (const buffer of message.buffers) {\n",
              "            buffers.push(buffer);\n",
              "            downloaded += buffer.byteLength;\n",
              "            progress.value = downloaded;\n",
              "          }\n",
              "        }\n",
              "      }\n",
              "      const blob = new Blob(buffers, {type: 'application/binary'});\n",
              "      const a = document.createElement('a');\n",
              "      a.href = window.URL.createObjectURL(blob);\n",
              "      a.download = filename;\n",
              "      div.appendChild(a);\n",
              "      a.click();\n",
              "      div.remove();\n",
              "    }\n",
              "  "
            ]
          },
          "metadata": {}
        },
        {
          "output_type": "display_data",
          "data": {
            "text/plain": [
              "<IPython.core.display.Javascript object>"
            ],
            "application/javascript": [
              "download(\"download_c8e1385c-589d-4aa6-a6dd-73a3243913c5\", \"converted_model.tflite\", 71985544)"
            ]
          },
          "metadata": {}
        }
      ]
    },
    {
      "cell_type": "code",
      "source": [
        "# download the tflite model\n",
        "files.download('converted_model.tflite')"
      ],
      "metadata": {
        "id": "KEaGEC1Lqc2O"
      },
      "execution_count": null,
      "outputs": []
    }
  ],
  "metadata": {
    "colab": {
      "provenance": [],
      "include_colab_link": true
    },
    "kernelspec": {
      "display_name": "Python 3",
      "name": "python3"
    },
    "language_info": {
      "name": "python"
    }
  },
  "nbformat": 4,
  "nbformat_minor": 0
}